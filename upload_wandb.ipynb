{
 "cells": [
  {
   "cell_type": "code",
   "execution_count": 1,
   "id": "d7e7c351",
   "metadata": {},
   "outputs": [],
   "source": [
    "import wandb"
   ]
  },
  {
   "cell_type": "code",
   "execution_count": 2,
   "id": "a4439b19",
   "metadata": {},
   "outputs": [],
   "source": [
    "with open('test_artifact.txt', 'w') as fp:\n",
    "    fp.write(\"Some fake data yo\")"
   ]
  },
  {
   "cell_type": "code",
   "execution_count": 4,
   "id": "56008db3",
   "metadata": {},
   "outputs": [
    {
     "name": "stderr",
     "output_type": "stream",
     "text": [
      "\u001b[34m\u001b[1mwandb\u001b[0m: Currently logged in as: \u001b[33mjersmit244\u001b[0m (use `wandb login --relogin` to force relogin)\n"
     ]
    },
    {
     "data": {
      "text/html": [
       "\n",
       "                    Syncing run <strong><a href=\"https://wandb.ai/jersmit244/my_project/runs/3h8gka01\" target=\"_blank\">vibrant-fire-2</a></strong> to <a href=\"https://wandb.ai/jersmit244/my_project\" target=\"_blank\">Weights & Biases</a> (<a href=\"https://docs.wandb.com/integrations/jupyter.html\" target=\"_blank\">docs</a>).<br/>\n",
       "\n",
       "                "
      ],
      "text/plain": [
       "<IPython.core.display.HTML object>"
      ]
     },
     "metadata": {},
     "output_type": "display_data"
    }
   ],
   "source": [
    "run = wandb.init(\n",
    "    project=\"my_project\",\n",
    "    group=\"experiment_1\"\n",
    ")"
   ]
  },
  {
   "cell_type": "code",
   "execution_count": 8,
   "id": "c6fbbf5c",
   "metadata": {},
   "outputs": [
    {
     "data": {
      "text/plain": [
       "<ManifestEntry digest: jFO4yTepZiQRKearpEPoxw==>"
      ]
     },
     "execution_count": 8,
     "metadata": {},
     "output_type": "execute_result"
    }
   ],
   "source": [
    "artifact = wandb.Artifact(\n",
    "    name='test_artifact.txt', \n",
    "    type='data', \n",
    "    description=\"Some fake data\")\n",
    "\n",
    "artifact.add_file('test_artifact.txt')"
   ]
  },
  {
   "cell_type": "code",
   "execution_count": 9,
   "id": "2feada7f",
   "metadata": {},
   "outputs": [
    {
     "data": {
      "text/plain": [
       "<wandb.sdk.wandb_artifacts.Artifact at 0x7f43eada4b10>"
      ]
     },
     "execution_count": 9,
     "metadata": {},
     "output_type": "execute_result"
    }
   ],
   "source": [
    "run.log_artifact(artifact)"
   ]
  },
  {
   "cell_type": "code",
   "execution_count": 10,
   "id": "0e474271",
   "metadata": {},
   "outputs": [
    {
     "data": {
      "text/html": [
       "<br/>Waiting for W&B process to finish, PID 18103... <strong style=\"color:green\">(success).</strong>"
      ],
      "text/plain": [
       "<IPython.core.display.HTML object>"
      ]
     },
     "metadata": {},
     "output_type": "display_data"
    },
    {
     "data": {
      "application/vnd.jupyter.widget-view+json": {
       "model_id": "",
       "version_major": 2,
       "version_minor": 0
      },
      "text/plain": [
       "VBox(children=(Label(value=' 0.00MB of 0.00MB uploaded (0.00MB deduped)\\r'), FloatProgress(value=1.0, max=1.0)…"
      ]
     },
     "metadata": {},
     "output_type": "display_data"
    },
    {
     "data": {
      "text/html": [
       "<style>\n",
       "    table.wandb td:nth-child(1) { padding: 0 10px; text-align: right }\n",
       "    .wandb-row { display: flex; flex-direction: row; flex-wrap: wrap; width: 100% }\n",
       "    .wandb-col { display: flex; flex-direction: column; flex-basis: 100%; flex: 1; padding: 10px; }\n",
       "    </style>\n",
       "<div class=\"wandb-row\"><div class=\"wandb-col\">\n",
       "</div><div class=\"wandb-col\">\n",
       "</div></div>\n",
       "Synced 5 W&B file(s), 0 media file(s), 1 artifact file(s) and 0 other file(s)\n",
       "<br/>Synced <strong style=\"color:#cdcd00\">vibrant-fire-2</strong>: <a href=\"https://wandb.ai/jersmit244/my_project/runs/3h8gka01\" target=\"_blank\">https://wandb.ai/jersmit244/my_project/runs/3h8gka01</a><br/>\n",
       "Find logs at: <code>./wandb/run-20220101_190812-3h8gka01/logs</code><br/>\n"
      ],
      "text/plain": [
       "<IPython.core.display.HTML object>"
      ]
     },
     "metadata": {},
     "output_type": "display_data"
    }
   ],
   "source": [
    "run.finish()"
   ]
  },
  {
   "cell_type": "markdown",
   "id": "7128b707",
   "metadata": {},
   "source": [
    "## Update the artifacts"
   ]
  },
  {
   "cell_type": "code",
   "execution_count": 11,
   "id": "0514e19f",
   "metadata": {},
   "outputs": [
    {
     "data": {
      "text/html": [
       "\n",
       "                    Syncing run <strong><a href=\"https://wandb.ai/jersmit244/my_project/runs/3cg05hbw\" target=\"_blank\">wobbly-firefly-3</a></strong> to <a href=\"https://wandb.ai/jersmit244/my_project\" target=\"_blank\">Weights & Biases</a> (<a href=\"https://docs.wandb.com/integrations/jupyter.html\" target=\"_blank\">docs</a>).<br/>\n",
       "\n",
       "                "
      ],
      "text/plain": [
       "<IPython.core.display.HTML object>"
      ]
     },
     "metadata": {},
     "output_type": "display_data"
    },
    {
     "data": {
      "text/html": [
       "<br/>Waiting for W&B process to finish, PID 18349... <strong style=\"color:green\">(success).</strong>"
      ],
      "text/plain": [
       "<IPython.core.display.HTML object>"
      ]
     },
     "metadata": {},
     "output_type": "display_data"
    },
    {
     "data": {
      "application/vnd.jupyter.widget-view+json": {
       "model_id": "",
       "version_major": 2,
       "version_minor": 0
      },
      "text/plain": [
       "VBox(children=(Label(value=' 0.00MB of 0.00MB uploaded (0.00MB deduped)\\r'), FloatProgress(value=1.0, max=1.0)…"
      ]
     },
     "metadata": {},
     "output_type": "display_data"
    },
    {
     "data": {
      "text/html": [
       "<style>\n",
       "    table.wandb td:nth-child(1) { padding: 0 10px; text-align: right }\n",
       "    .wandb-row { display: flex; flex-direction: row; flex-wrap: wrap; width: 100% }\n",
       "    .wandb-col { display: flex; flex-direction: column; flex-basis: 100%; flex: 1; padding: 10px; }\n",
       "    </style>\n",
       "<div class=\"wandb-row\"><div class=\"wandb-col\">\n",
       "</div><div class=\"wandb-col\">\n",
       "</div></div>\n",
       "Synced 5 W&B file(s), 0 media file(s), 1 artifact file(s) and 0 other file(s)\n",
       "<br/>Synced <strong style=\"color:#cdcd00\">wobbly-firefly-3</strong>: <a href=\"https://wandb.ai/jersmit244/my_project/runs/3cg05hbw\" target=\"_blank\">https://wandb.ai/jersmit244/my_project/runs/3cg05hbw</a><br/>\n",
       "Find logs at: <code>./wandb/run-20220101_192351-3cg05hbw/logs</code><br/>\n"
      ],
      "text/plain": [
       "<IPython.core.display.HTML object>"
      ]
     },
     "metadata": {},
     "output_type": "display_data"
    }
   ],
   "source": [
    "with open('test_artifact.txt', 'w') as fp:\n",
    "    fp.write(\"Some fake data yo, but a bit more now\")\n",
    "    \n",
    "run = wandb.init(\n",
    "    project=\"my_project\",\n",
    "    group=\"experiment_1\"\n",
    ")\n",
    "\n",
    "artifact = wandb.Artifact(\n",
    "    name='test_artifact.txt', \n",
    "    type='data', \n",
    "    description=\"Some fake data\")\n",
    "\n",
    "artifact.add_file('test_artifact.txt')\n",
    "run.log_artifact(artifact)\n",
    "run.finish()"
   ]
  },
  {
   "cell_type": "markdown",
   "id": "0b7b6164",
   "metadata": {},
   "source": [
    "## Cleaner usage with context managers\n",
    "\n",
    "Instead of explictely instantiating, and closing, cleaner to use a context manager"
   ]
  },
  {
   "cell_type": "code",
   "execution_count": 12,
   "id": "f6a733f4",
   "metadata": {},
   "outputs": [
    {
     "data": {
      "text/html": [
       "\n",
       "                    Syncing run <strong><a href=\"https://wandb.ai/jersmit244/multiple_runs/runs/1stafaa5\" target=\"_blank\">restful-gorge-1</a></strong> to <a href=\"https://wandb.ai/jersmit244/multiple_runs\" target=\"_blank\">Weights & Biases</a> (<a href=\"https://docs.wandb.com/integrations/jupyter.html\" target=\"_blank\">docs</a>).<br/>\n",
       "\n",
       "                "
      ],
      "text/plain": [
       "<IPython.core.display.HTML object>"
      ]
     },
     "metadata": {},
     "output_type": "display_data"
    },
    {
     "data": {
      "text/html": [
       "<br/>Waiting for W&B process to finish, PID 18550... <strong style=\"color:green\">(success).</strong>"
      ],
      "text/plain": [
       "<IPython.core.display.HTML object>"
      ]
     },
     "metadata": {},
     "output_type": "display_data"
    },
    {
     "data": {
      "application/vnd.jupyter.widget-view+json": {
       "model_id": "",
       "version_major": 2,
       "version_minor": 0
      },
      "text/plain": [
       "VBox(children=(Label(value=' 0.00MB of 0.00MB uploaded (0.00MB deduped)\\r'), FloatProgress(value=0.0, max=1.0)…"
      ]
     },
     "metadata": {},
     "output_type": "display_data"
    },
    {
     "data": {
      "text/html": [
       "<style>\n",
       "    table.wandb td:nth-child(1) { padding: 0 10px; text-align: right }\n",
       "    .wandb-row { display: flex; flex-direction: row; flex-wrap: wrap; width: 100% }\n",
       "    .wandb-col { display: flex; flex-direction: column; flex-basis: 100%; flex: 1; padding: 10px; }\n",
       "    </style>\n",
       "<div class=\"wandb-row\"><div class=\"wandb-col\">\n",
       "</div><div class=\"wandb-col\">\n",
       "</div></div>\n",
       "Synced 5 W&B file(s), 0 media file(s), 0 artifact file(s) and 0 other file(s)\n",
       "<br/>Synced <strong style=\"color:#cdcd00\">restful-gorge-1</strong>: <a href=\"https://wandb.ai/jersmit244/multiple_runs/runs/1stafaa5\" target=\"_blank\">https://wandb.ai/jersmit244/multiple_runs/runs/1stafaa5</a><br/>\n",
       "Find logs at: <code>./wandb/run-20220101_193619-1stafaa5/logs</code><br/>\n"
      ],
      "text/plain": [
       "<IPython.core.display.HTML object>"
      ]
     },
     "metadata": {},
     "output_type": "display_data"
    }
   ],
   "source": [
    "with wandb.init(project=\"multiple_runs\") as run:\n",
    "    \n",
    "    artifact = wandb.Artifact(\n",
    "    name='test_artifact.txt', \n",
    "    type='data', \n",
    "    description=\"Some fake data\")\n",
    "\n",
    "    artifact.add_file('test_artifact.txt')"
   ]
  },
  {
   "cell_type": "code",
   "execution_count": null,
   "id": "b5ba98bf",
   "metadata": {},
   "outputs": [],
   "source": []
  }
 ],
 "metadata": {
  "kernelspec": {
   "display_name": "Python 3 (ipykernel)",
   "language": "python",
   "name": "python3"
  },
  "language_info": {
   "codemirror_mode": {
    "name": "ipython",
    "version": 3
   },
   "file_extension": ".py",
   "mimetype": "text/x-python",
   "name": "python",
   "nbconvert_exporter": "python",
   "pygments_lexer": "ipython3",
   "version": "3.7.12"
  }
 },
 "nbformat": 4,
 "nbformat_minor": 5
}
